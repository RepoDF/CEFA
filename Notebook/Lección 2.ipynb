{
 "cells": [
  {
   "cell_type": "markdown",
   "metadata": {},
   "source": [
    "## Notebook Lección 2\n",
    "\n",
    "### Objetivos Notebook\n",
    "\n",
    "1) Crear funciones desde cero para computar las principales métricas de los portafolios de renta fija.\n",
    " \n",
    "2) Reforzar y practicar lo aprendido en el taller de manejo de datos con Python.\n",
    "\n",
    "### Ejercicio\n",
    "\n",
    "Desarrolle los siguientes puntos:\n",
    "\n",
    "1. Cree funciones para calcular la duración y convexidad para bonos de cupón fijo\n",
    "2. Cree funciona para calcular el VaR y el CVaR de manera tanto paramétrica como histórica"
   ]
  },
  {
   "cell_type": "code",
   "execution_count": 53,
   "metadata": {},
   "outputs": [],
   "source": [
    "import sys\n",
    "import numpy as np\n",
    "import pandas as pd\n",
    "import numpy_financial as npf"
   ]
  },
  {
   "cell_type": "markdown",
   "metadata": {},
   "source": [
    "#### 1. Bonos con Cupón Fijo en Python.\n",
    "\n",
    "Podemos declarar un bono de cupón fijo como un arreglo de numpy o como una serie de Pandas. En este caso preferiríamos usar series ya que estas cuenta con un índice que nos ayuda a registrar de mejor forma los periodos de pago. Suponga un bono con Face Value de 100 con 6 años de vencimiento que paga cupones anuales:"
   ]
  },
  {
   "cell_type": "code",
   "execution_count": 54,
   "metadata": {},
   "outputs": [
    {
     "data": {
      "text/plain": [
       "1     100\n",
       "2     100\n",
       "3     100\n",
       "4     100\n",
       "5     100\n",
       "6    1100\n",
       "Name: bono1, dtype: int64"
      ]
     },
     "execution_count": 54,
     "metadata": {},
     "output_type": "execute_result"
    }
   ],
   "source": [
    "bono1 = pd.Series([100,100,100,100,100,1100], index = ['1','2','3','4','5','6'], name = 'bono1')\n",
    "bono1"
   ]
  },
  {
   "cell_type": "markdown",
   "metadata": {},
   "source": [
    "Supongamos ahora que este bono paga cupónes de forma semianual"
   ]
  },
  {
   "cell_type": "code",
   "execution_count": 55,
   "metadata": {},
   "outputs": [
    {
     "data": {
      "text/plain": [
       "0.5      50\n",
       "1        50\n",
       "1.5      50\n",
       "2        50\n",
       "2.5      50\n",
       "3        50\n",
       "3.5      50\n",
       "4        50\n",
       "4.5      50\n",
       "5        50\n",
       "5.5      50\n",
       "6      1050\n",
       "Name: bono2 (semianual), dtype: int64"
      ]
     },
     "execution_count": 55,
     "metadata": {},
     "output_type": "execute_result"
    }
   ],
   "source": [
    "bono2 = pd.Series([50,50,50,50,50,50,50,50,50,50,50,1050], \n",
    "                  index = ['0.5','1','1.5','2','2.5','3','3.5','4','4.5','5','5.5','6']\n",
    "                  , name = 'bono2 (semianual)')\n",
    "bono2"
   ]
  },
  {
   "cell_type": "markdown",
   "metadata": {},
   "source": [
    "Podemos también incluso realizarlos a un vencimiento específico supongamos que este bono fue emitido el 16 de febrero de 2021. "
   ]
  },
  {
   "cell_type": "code",
   "execution_count": 56,
   "metadata": {},
   "outputs": [
    {
     "data": {
      "text/plain": [
       "2021-08-16      50\n",
       "2022-02-16      50\n",
       "2022-08-16      50\n",
       "2023-02-16      50\n",
       "2023-08-16      50\n",
       "2024-02-16      50\n",
       "2024-08-16      50\n",
       "2025-02-16      50\n",
       "2025-08-16      50\n",
       "2026-02-16      50\n",
       "2026-08-16      50\n",
       "2027-02-16    1050\n",
       "Freq: <DateOffset: months=6>, Name: bono2 (semianual), dtype: int64"
      ]
     },
     "execution_count": 56,
     "metadata": {},
     "output_type": "execute_result"
    }
   ],
   "source": [
    "fechas_cupon = pd.date_range('2021-02-16', periods = 13, freq=pd.DateOffset(months=6), inclusive= 'right')\n",
    "bono2 = pd.Series([50,50,50,50,50,50,50,50,50,50,50,1050], \n",
    "                  index = fechas_cupon\n",
    "                  , name = 'bono2 (semianual)')\n",
    "bono2"
   ]
  },
  {
   "cell_type": "markdown",
   "metadata": {},
   "source": [
    "Este procedimiento lo podemos volver fácilmente una función."
   ]
  },
  {
   "cell_type": "code",
   "execution_count": 57,
   "metadata": {},
   "outputs": [
    {
     "data": {
      "text/plain": [
       "0.5      5.0\n",
       "1.0      5.0\n",
       "1.5      5.0\n",
       "2.0      5.0\n",
       "2.5      5.0\n",
       "3.0      5.0\n",
       "3.5      5.0\n",
       "4.0      5.0\n",
       "4.5      5.0\n",
       "5.0      5.0\n",
       "5.5      5.0\n",
       "6.0    105.0\n",
       "dtype: float64"
      ]
     },
     "execution_count": 57,
     "metadata": {},
     "output_type": "execute_result"
    }
   ],
   "source": [
    "def crearPagos(tasa_cupon, frecuencia, FV, vencimiento):\n",
    "    indice_bonos = [x*frecuencia for x in range(1,(vencimiento*int(1/frecuencia))+1)]\n",
    "    serie = pd.Series([tasa_cupon*FV]*(len(indice_bonos)-1)+[(1+tasa_cupon)*FV],indice_bonos)\n",
    "    return serie\n",
    "bono = crearPagos(0.05,1/2, 100,6)\n",
    "bono"
   ]
  },
  {
   "cell_type": "markdown",
   "metadata": {},
   "source": [
    "Con respecto al precio del bono podemos tomar el valor de mercado o bien podríamos usar la curva spot para descontar cada cupón a valor presente. Esta opción la revisaremos en la siguiente lección."
   ]
  },
  {
   "cell_type": "markdown",
   "metadata": {},
   "source": [
    "#### 2) Precio\n",
    "\n",
    "El Precio tiene la fórmula que conocemos equivalente a descontar los flujos con la tasa de interés correspondiente: \n",
    "\n",
    "$$P = (\\frac{F}{(1+y)^T}+\\sum_{i=1}^{T}\\frac{c\\%}{(1+y)^i})$$\n",
    "\n",
    "También se puede usar la siguiente notación, teniendo en cuenta que gran parte de los bonos tienen cupones de pago semianual:\n",
    "\n",
    "$$P = \\sum_{j=1}^{2T}\\frac{c(j/2)}{(1+y/2)^{2j}}$$\n"
   ]
  },
  {
   "cell_type": "markdown",
   "metadata": {},
   "source": [
    "#### 3) Yield to Maturity\n",
    "\n",
    "Conociendo el precio de mercados podemos también calcular el yield to maturity. \n",
    "\n",
    "Supongamos un Bono-par a dos (2) años, con pago semestral y cupón del 10% (spot = 10%). "
   ]
  },
  {
   "cell_type": "code",
   "execution_count": 58,
   "metadata": {},
   "outputs": [
    {
     "data": {
      "text/plain": [
       "[5.0, 5.0, 5.0, 5.0, 5.0, 5.0, 5.0, 5.0, 5.0, 5.0, 5.0, 105.0]"
      ]
     },
     "execution_count": 58,
     "metadata": {},
     "output_type": "execute_result"
    }
   ],
   "source": [
    "bono.to_list()"
   ]
  },
  {
   "cell_type": "markdown",
   "metadata": {},
   "source": [
    "Supongamos que el bono se negocia a tasa cupón par respecto a su yield to maturity."
   ]
  },
  {
   "cell_type": "code",
   "execution_count": 59,
   "metadata": {},
   "outputs": [
    {
     "data": {
      "text/plain": [
       "0.05"
      ]
     },
     "execution_count": 59,
     "metadata": {},
     "output_type": "execute_result"
    }
   ],
   "source": [
    "precio = 100\n",
    "ytm = npf.irr([-precio]+bono.to_list())\n",
    "round(ytm,2)"
   ]
  },
  {
   "cell_type": "code",
   "execution_count": 60,
   "metadata": {},
   "outputs": [
    {
     "data": {
      "text/plain": [
       "0.10000000000000009"
      ]
     },
     "execution_count": 60,
     "metadata": {},
     "output_type": "execute_result"
    }
   ],
   "source": [
    "### Este resultado debemos multiplicarlo por dos para obtener la tasa anual semestre vencido\n",
    "ytm*2"
   ]
  },
  {
   "cell_type": "markdown",
   "metadata": {},
   "source": [
    "#### 4) Duración\n",
    "\n",
    "La fórmula general para calcular el duration de un bono de cupón fijo es la siguiente: \n",
    "\n",
    "$$D = -\\frac{\\frac{dV(t,y)}{dy}}{V} = \\frac{F}{1+y}(\\frac{T}{1+y}+c\\%\\sum_{i=1}^{T}\\frac{i}{(1+y)^i})$$\n",
    "\n",
    "Particularmente para bonos semimensuales:\n",
    "\n",
    "$$D = (1+y/2)^{-1}\\sum_{i=1}^{2T}\\frac{j}{2}\\delta(j/2)$$\n",
    "\n",
    "Donde\n",
    "\n",
    "$$\\delta(j/2) = \\frac{(1+y/2)^{-j}c(j/2)}{P}$$"
   ]
  },
  {
   "cell_type": "markdown",
   "metadata": {},
   "source": [
    "### Ejemplo\n",
    "\n",
    "Bono par de dos años, con pago semestral y cupón del 10%."
   ]
  },
  {
   "cell_type": "code",
   "execution_count": 61,
   "metadata": {},
   "outputs": [
    {
     "data": {
      "text/plain": [
       "0.5      5.0\n",
       "1.0      5.0\n",
       "1.5      5.0\n",
       "2.0    105.0\n",
       "dtype: float64"
      ]
     },
     "execution_count": 61,
     "metadata": {},
     "output_type": "execute_result"
    }
   ],
   "source": [
    "bono = crearPagos(0.05,1/2, 100,2)\n",
    "bono"
   ]
  },
  {
   "cell_type": "markdown",
   "metadata": {},
   "source": [
    "Como en este caso el bono es semimensual, es preferible usar la notación semimensual. Debemos entonces cambiar el índice del bono."
   ]
  },
  {
   "cell_type": "code",
   "execution_count": 62,
   "metadata": {},
   "outputs": [
    {
     "data": {
      "text/html": [
       "<div>\n",
       "<style scoped>\n",
       "    .dataframe tbody tr th:only-of-type {\n",
       "        vertical-align: middle;\n",
       "    }\n",
       "\n",
       "    .dataframe tbody tr th {\n",
       "        vertical-align: top;\n",
       "    }\n",
       "\n",
       "    .dataframe thead th {\n",
       "        text-align: right;\n",
       "    }\n",
       "</style>\n",
       "<table border=\"1\" class=\"dataframe\">\n",
       "  <thead>\n",
       "    <tr style=\"text-align: right;\">\n",
       "      <th></th>\n",
       "      <th>index</th>\n",
       "      <th>Cash Flow</th>\n",
       "    </tr>\n",
       "    <tr>\n",
       "      <th>index</th>\n",
       "      <th></th>\n",
       "      <th></th>\n",
       "    </tr>\n",
       "  </thead>\n",
       "  <tbody>\n",
       "    <tr>\n",
       "      <th>1.0</th>\n",
       "      <td>1.0</td>\n",
       "      <td>5.0</td>\n",
       "    </tr>\n",
       "    <tr>\n",
       "      <th>2.0</th>\n",
       "      <td>2.0</td>\n",
       "      <td>5.0</td>\n",
       "    </tr>\n",
       "    <tr>\n",
       "      <th>3.0</th>\n",
       "      <td>3.0</td>\n",
       "      <td>5.0</td>\n",
       "    </tr>\n",
       "    <tr>\n",
       "      <th>4.0</th>\n",
       "      <td>4.0</td>\n",
       "      <td>105.0</td>\n",
       "    </tr>\n",
       "  </tbody>\n",
       "</table>\n",
       "</div>"
      ],
      "text/plain": [
       "       index  Cash Flow\n",
       "index                  \n",
       "1.0      1.0        5.0\n",
       "2.0      2.0        5.0\n",
       "3.0      3.0        5.0\n",
       "4.0      4.0      105.0"
      ]
     },
     "execution_count": 62,
     "metadata": {},
     "output_type": "execute_result"
    }
   ],
   "source": [
    "bono = bono.rename('Cash Flow').reset_index()\n",
    "bono['index'] = bono['index']*2\n",
    "bono = bono.set_index('index', drop = False) # Debemos con\n",
    "bono"
   ]
  },
  {
   "cell_type": "markdown",
   "metadata": {},
   "source": [
    "Calculamos primero el yield to maturity con la función irr de Numpy-Financial. Note que gracias al uso de la notación semestral, podemos usar la función de irr disponible en Excel o Calculadoras financieras."
   ]
  },
  {
   "cell_type": "code",
   "execution_count": 63,
   "metadata": {},
   "outputs": [
    {
     "data": {
      "text/plain": [
       "0.05"
      ]
     },
     "execution_count": 63,
     "metadata": {},
     "output_type": "execute_result"
    }
   ],
   "source": [
    "P = 100\n",
    "pagos = [-P]+bono['Cash Flow'].to_list()\n",
    "yield1 = npf.irr(pagos)\n",
    "round(yield1,2)"
   ]
  },
  {
   "cell_type": "code",
   "execution_count": 64,
   "metadata": {},
   "outputs": [
    {
     "data": {
      "text/plain": [
       "index\n",
       "1.0    0.047619\n",
       "2.0    0.045351\n",
       "3.0    0.043192\n",
       "4.0    0.863838\n",
       "dtype: float64"
      ]
     },
     "execution_count": 64,
     "metadata": {},
     "output_type": "execute_result"
    }
   ],
   "source": [
    "weights = bono.apply(lambda row: row['Cash Flow'] / (1+yield1)**row['index'], axis=1)/P\n",
    "weights"
   ]
  },
  {
   "cell_type": "code",
   "execution_count": 65,
   "metadata": {},
   "outputs": [
    {
     "data": {
      "text/plain": [
       "1.772975252081178"
      ]
     },
     "execution_count": 65,
     "metadata": {},
     "output_type": "execute_result"
    }
   ],
   "source": [
    "duration = (weights*bono['index']*1/2).sum()/(1+yield1)\n",
    "duration"
   ]
  },
  {
   "cell_type": "markdown",
   "metadata": {},
   "source": [
    "Podemos volver el procedimiento anterior una función"
   ]
  },
  {
   "cell_type": "code",
   "execution_count": 66,
   "metadata": {},
   "outputs": [
    {
     "data": {
      "text/plain": [
       "1.772975252081178"
      ]
     },
     "execution_count": 66,
     "metadata": {},
     "output_type": "execute_result"
    }
   ],
   "source": [
    "def calcularDuracion(P,bono, frecuencia):\n",
    "    if(frecuencia == 1/2):\n",
    "        pagos = [-P]+bono.to_list()\n",
    "        ### Frecuencia SV \n",
    "        yield1 = npf.irr(pagos)    \n",
    "        bono = bono.rename('Cash Flow').reset_index()\n",
    "        bono['index'] = bono['index']*2\n",
    "        weights = bono.apply(lambda row: row['Cash Flow'] / (1+yield1)**row['index'], axis=1)/P\n",
    "        duration = (weights*bono['index']*1/2).sum()/(1+yield1)\n",
    "    elif(frecuencia == 1): \n",
    "        # Ejercicio #1\n",
    "        pagos = [-P]+bono.to_list()\n",
    "    return duration\n",
    "bono = crearPagos(0.05,1/2, 100,2)\n",
    "duration = calcularDuracion(100,bono,1/2)\n",
    "duration"
   ]
  },
  {
   "cell_type": "code",
   "execution_count": 67,
   "metadata": {},
   "outputs": [
    {
     "data": {
      "text/plain": [
       "0.5      5.0\n",
       "1.0      5.0\n",
       "1.5      5.0\n",
       "2.0      5.0\n",
       "2.5      5.0\n",
       "3.0      5.0\n",
       "3.5      5.0\n",
       "4.0      5.0\n",
       "4.5      5.0\n",
       "5.0    105.0\n",
       "dtype: float64"
      ]
     },
     "execution_count": 67,
     "metadata": {},
     "output_type": "execute_result"
    }
   ],
   "source": [
    "crearPagos(0.05,1/2, 100,5)"
   ]
  },
  {
   "cell_type": "code",
   "execution_count": 68,
   "metadata": {},
   "outputs": [
    {
     "data": {
      "text/plain": [
       "3.8608674645923964"
      ]
     },
     "execution_count": 68,
     "metadata": {},
     "output_type": "execute_result"
    }
   ],
   "source": [
    "bono = crearPagos(0.05,1/2, 100,5)\n",
    "duration = calcularDuracion(100,bono,1/2)\n",
    "duration"
   ]
  },
  {
   "cell_type": "markdown",
   "metadata": {},
   "source": [
    "#### 5) Convexidad\n",
    "\n",
    "En notación semestral: \n",
    "\n",
    "$$C = (1+y/2)^{-2}\\sum_{j=1}^{2T}\\frac{j(j+1)}{4}\\delta(j/2)$$\n",
    "\n",
    "Donde\n",
    "\n",
    "$$\\delta(j/2) = \\frac{(1+y/2)^{-j}c(j/2)}{P}$$"
   ]
  },
  {
   "cell_type": "code",
   "execution_count": 1,
   "metadata": {},
   "outputs": [],
   "source": [
    "def calcularConvexidad(P,bono, frecuencia):\n",
    "    if(frecuencia == 1/2):\n",
    "        pagos = [-P]+bono.to_list()\n",
    "        yield1 = npf.irr(pagos)/(2*frecuencia)\n",
    "        bono = bono.rename('Cash Flow').reset_index()\n",
    "        bono['index'] = bono['index']*2\n",
    "        weights = bono.apply(lambda row: row['Cash Flow'] / (1+yield1)**row['index'], axis=1)/P\n",
    "        convexity = (weights*bono['index']*(bono['index']+1)*1/4).sum()/((1+yield1)**2)\n",
    "    elif(frecuencia == 1): \n",
    "        # Tarea Adicional\n",
    "        pagos = [-P]+bono.to_list()\n",
    "\n",
    "    return convexity"
   ]
  },
  {
   "cell_type": "code",
   "execution_count": 70,
   "metadata": {},
   "outputs": [
    {
     "data": {
      "text/plain": [
       "18.74942038320432"
      ]
     },
     "execution_count": 70,
     "metadata": {},
     "output_type": "execute_result"
    }
   ],
   "source": [
    "convexidad_bono = calcularConvexidad(100,bono,1/2)\n",
    "convexidad_bono"
   ]
  },
  {
   "cell_type": "markdown",
   "metadata": {},
   "source": [
    "Le invito a corroborar sus resultados en el siguiente enlace: https://dqydj.com/bond-convexity-calculator/"
   ]
  },
  {
   "cell_type": "code",
   "execution_count": 71,
   "metadata": {},
   "outputs": [
    {
     "data": {
      "text/plain": [
       "4.118458382885235"
      ]
     },
     "execution_count": 71,
     "metadata": {},
     "output_type": "execute_result"
    }
   ],
   "source": [
    "calcularConvexidad(100,crearPagos(0.05,1/2, 100,2),1/2)"
   ]
  },
  {
   "cell_type": "markdown",
   "metadata": {},
   "source": [
    "### Tarea Adicional\n",
    "\n",
    "Complete el condicional en la función provista para calcular el convexity y el duration \n",
    "\n",
    "Puede usar el siguiente link para comparar sus resultados https://www.buyupside.com/calculators/bondconvexity.html"
   ]
  },
  {
   "cell_type": "markdown",
   "metadata": {},
   "source": [
    "### 6) VaR y CVaR\n",
    "\n",
    "Suponga que el retorno del activo A tiene un retorno esperado de 1% y una volatilidad de 1%. Obtenga el VaR y CVaR. Suponga que los retornos del activo A siguen una distribución normal."
   ]
  },
  {
   "cell_type": "code",
   "execution_count": 72,
   "metadata": {},
   "outputs": [
    {
     "name": "stdout",
     "output_type": "stream",
     "text": [
      "-0.012897072539029459 -0.021254256150148507\n"
     ]
    }
   ],
   "source": [
    "from scipy import stats as st\n",
    "retA = 0.02\n",
    "volA = 0.02\n",
    "def calcularVaR(ret,vol):\n",
    "    VaR = ret + vol*st.norm.ppf(0.05)\n",
    "    return VaR\n",
    "VaRA= calcularVaR(retA, volA)\n",
    "\n",
    "def calcularCVaR(ret, vol):\n",
    "    CVaR = ret - (vol/0.05)*st.norm.pdf(st.norm.ppf(0.05))\n",
    "    return CVaR\n",
    "CVaRA = calcularCVaR(retA, volA)\n",
    "print(VaRA,CVaRA)"
   ]
  },
  {
   "cell_type": "markdown",
   "metadata": {},
   "source": [
    "Suponga que ahora usted va a ingresar un nuevo activo B al portafolio en una proporción 50 a 50. Este activo tiene un retorno esperado de 12% y una volatilidad del 14%. Suponga que los retornos siguen una distribución normal. Asuma que el coeficiente de correlación es cero."
   ]
  },
  {
   "cell_type": "code",
   "execution_count": 73,
   "metadata": {},
   "outputs": [
    {
     "name": "stdout",
     "output_type": "stream",
     "text": [
      "-0.11027950777320622 -0.16877979305103963\n"
     ]
    }
   ],
   "source": [
    "retB = 0.12\n",
    "volB = 0.14\n",
    "corrAB = 0\n",
    "VaRB = calcularVaR(retB, volB)\n",
    "CVaRB = calcularCVaR(retB, volB)\n",
    "print(VaRB, CVaRB)"
   ]
  },
  {
   "cell_type": "code",
   "execution_count": 74,
   "metadata": {},
   "outputs": [
    {
     "name": "stdout",
     "output_type": "stream",
     "text": [
      "-0.04630871536766745 -0.07585582138288426\n"
     ]
    }
   ],
   "source": [
    "wA = 0.5 \n",
    "wB = 1-wA\n",
    "retP = wA*retA+wB*retB\n",
    "volP = np.sqrt((wA*volA)**2 + (wB*volB)**2+2*wA*wB*corrAB*volA*volB)\n",
    "VaRP = calcularVaR(retP, volP)\n",
    "CVaRP = calcularCVaR(retP, volP)\n",
    "print(VaRP, CVaRP)"
   ]
  },
  {
   "cell_type": "markdown",
   "metadata": {},
   "source": [
    "Asuma ahora que el cociente de correlación es 0.5."
   ]
  },
  {
   "cell_type": "code",
   "execution_count": 75,
   "metadata": {},
   "outputs": [
    {
     "name": "stdout",
     "output_type": "stream",
     "text": [
      "-0.05418372553738221 -0.05418372553738221\n"
     ]
    }
   ],
   "source": [
    "corrAB = 0.5\n",
    "volP = np.sqrt((wA*volA)**2 + (wB*volB)**2+2*wA*wB*corrAB*volA*volB)\n",
    "VaRP = calcularVaR(retP, volP)\n",
    "CVaRP = calcularVaR(retP, volP)\n",
    "print(VaRP,CVaRP)"
   ]
  },
  {
   "cell_type": "markdown",
   "metadata": {},
   "source": [
    "Asuma ahora que el cociente de correlación es -0.5."
   ]
  },
  {
   "cell_type": "code",
   "execution_count": 76,
   "metadata": {},
   "outputs": [
    {
     "name": "stdout",
     "output_type": "stream",
     "text": [
      "-0.037860265402094626 -0.037860265402094626\n"
     ]
    }
   ],
   "source": [
    "corrAB = -0.5\n",
    "volP = np.sqrt((wA*volA)**2 + (wB*volB)**2+2*wA*wB*corrAB*volA*volB)\n",
    "VaRP = calcularVaR(retP, volP)\n",
    "CVaRP = calcularVaR(retP, volP)\n",
    "print(VaRP,CVaRP)"
   ]
  },
  {
   "cell_type": "markdown",
   "metadata": {},
   "source": [
    "### Tarea Adicional\n",
    "\n",
    "Redondeando a 1 decimal (e.g. 10%,20%, 30%, ... 100%). Obtenga la ponderación que maximiza el VaR. Asuma un cociente de correlación de -0.5. La solución está en la siguiente celda\n"
   ]
  },
  {
   "cell_type": "markdown",
   "metadata": {},
   "source": [
    "### VaR simulación de Montecarlo"
   ]
  },
  {
   "cell_type": "code",
   "execution_count": 77,
   "metadata": {},
   "outputs": [],
   "source": [
    "wA = 0.9\n",
    "retP_opt = wA*retA+wB*retB\n",
    "volP_opt = np.sqrt((wA*volA)**2 + (wB*volB)**2+2*wA*wB*corrAB*volA*volB)\n",
    "simulations = np.random.normal(retP_opt, volP_opt, size = 100000)\n",
    "VaR_MC = np.quantile(simulations, 0.05)"
   ]
  },
  {
   "cell_type": "markdown",
   "metadata": {},
   "source": [
    "### CVaR simulación de MonteCarlo"
   ]
  },
  {
   "cell_type": "code",
   "execution_count": 78,
   "metadata": {},
   "outputs": [
    {
     "data": {
      "text/plain": [
       "-0.051541137987838014"
      ]
     },
     "execution_count": 78,
     "metadata": {},
     "output_type": "execute_result"
    }
   ],
   "source": [
    "CVaR_MC = simulations[simulations <= VaR_MC].sum()/len(simulations[simulations <= VaR_MC])\n",
    "CVaR_MC"
   ]
  },
  {
   "cell_type": "code",
   "execution_count": 79,
   "metadata": {},
   "outputs": [
    {
     "data": {
      "text/plain": [
       "-0.05186902739481604"
      ]
     },
     "execution_count": 79,
     "metadata": {},
     "output_type": "execute_result"
    }
   ],
   "source": [
    "calcularCVaR(retP_opt, volP_opt)"
   ]
  }
 ],
 "metadata": {
  "kernelspec": {
   "display_name": "Python 3",
   "language": "python",
   "name": "python3"
  },
  "language_info": {
   "codemirror_mode": {
    "name": "ipython",
    "version": 3
   },
   "file_extension": ".py",
   "mimetype": "text/x-python",
   "name": "python",
   "nbconvert_exporter": "python",
   "pygments_lexer": "ipython3",
   "version": "3.8.8"
  },
  "vscode": {
   "interpreter": {
    "hash": "f447b78893daf8596901db53501155ace9d38bb7eb7e626464f27f83053f23c5"
   }
  }
 },
 "nbformat": 4,
 "nbformat_minor": 2
}
