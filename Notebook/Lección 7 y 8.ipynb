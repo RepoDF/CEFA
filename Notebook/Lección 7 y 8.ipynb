{
 "cells": [
  {
   "cell_type": "markdown",
   "metadata": {},
   "source": [
    "## Notebook Lección 7\n",
    "\n",
    "\n",
    "### Objetivos Lección 7 y 8\n",
    "\n",
    "1) Implementar el modelo de Media-Varianza de Markowitz con y sin restricciones.\n",
    "\n",
    "2) Entender las generalidad del modelo de Black Litterman y usar el método de Idzorek para computarlo\n",
    "\n",
    "### Ejercicio\n",
    "\n",
    "1. Estime la matriz de varianza de los activos con el método EWMA.\n",
    "2. Estime la matriz de varianza de los activos con el método histórico.\n",
    "4. Estime la distribución de retornos apriori. \n",
    "5. Corra el ejercicio de Black Litterman con el view \"El retorno de la clase de activo que proyectamos en el horizonte de inversión es de un 8.5% para equity y un 4% para fixed income, se tienen niveles de confianza respectivamente del 50% y 15%\"(use la metodología de Idzorek).  \n",
    "6. Ahora asuma que se cumple por completo la eficiencia del mercado y que por tanto tau es cero. Genere la frontera eficiente. Use EWMA en su estimación.\n",
    "7. Encuentre el portafolio de máximo Sharpe-Ratio. "
   ]
  },
  {
   "cell_type": "code",
   "execution_count": 15,
   "metadata": {},
   "outputs": [],
   "source": [
    "import numpy as np\n",
    "import pandas as pd\n",
    "days_in_year = 252\n",
    "window = 21"
   ]
  },
  {
   "cell_type": "code",
   "execution_count": 16,
   "metadata": {},
   "outputs": [
    {
     "name": "stderr",
     "output_type": "stream",
     "text": [
      "<ipython-input-16-c5d2132ed317>:10: UserWarning: Parsing dates in DD/MM/YYYY format when dayfirst=False (the default) was specified. This may lead to inconsistently parsed dates! Specify a format to ensure consistent parsing.\n",
      "  assets_df.index = pd.to_datetime(assets_df.index)\n"
     ]
    },
    {
     "data": {
      "text/html": [
       "<div>\n",
       "<style scoped>\n",
       "    .dataframe tbody tr th:only-of-type {\n",
       "        vertical-align: middle;\n",
       "    }\n",
       "\n",
       "    .dataframe tbody tr th {\n",
       "        vertical-align: top;\n",
       "    }\n",
       "\n",
       "    .dataframe thead tr th {\n",
       "        text-align: left;\n",
       "    }\n",
       "</style>\n",
       "<table border=\"1\" class=\"dataframe\">\n",
       "  <thead>\n",
       "    <tr>\n",
       "      <th></th>\n",
       "      <th colspan=\"4\" halign=\"left\">B500 Index</th>\n",
       "      <th colspan=\"4\" halign=\"left\">LBUSTRUU Index</th>\n",
       "    </tr>\n",
       "    <tr>\n",
       "      <th>Dates</th>\n",
       "      <th>INDX_MARKET_CAP</th>\n",
       "      <th>Log_Returns</th>\n",
       "      <th>PX_LAST</th>\n",
       "      <th>Sd</th>\n",
       "      <th>INDX_MARKET_CAP</th>\n",
       "      <th>Log_Returns</th>\n",
       "      <th>PX_LAST</th>\n",
       "      <th>Sd</th>\n",
       "    </tr>\n",
       "  </thead>\n",
       "  <tbody>\n",
       "    <tr>\n",
       "      <th>2008-12-31</th>\n",
       "      <td>7868850.08</td>\n",
       "      <td>0.008824</td>\n",
       "      <td>322.14</td>\n",
       "      <td>0.055420</td>\n",
       "      <td>11430264.42</td>\n",
       "      <td>0.036630</td>\n",
       "      <td>1454.10</td>\n",
       "      <td>0.013499</td>\n",
       "    </tr>\n",
       "    <tr>\n",
       "      <th>2009-01-30</th>\n",
       "      <td>7211885.39</td>\n",
       "      <td>-0.086114</td>\n",
       "      <td>295.56</td>\n",
       "      <td>0.055243</td>\n",
       "      <td>11448304.34</td>\n",
       "      <td>-0.008862</td>\n",
       "      <td>1441.27</td>\n",
       "      <td>0.013814</td>\n",
       "    </tr>\n",
       "    <tr>\n",
       "      <th>2009-02-27</th>\n",
       "      <td>6434213.30</td>\n",
       "      <td>-0.113264</td>\n",
       "      <td>263.91</td>\n",
       "      <td>0.056432</td>\n",
       "      <td>11466836.26</td>\n",
       "      <td>-0.003782</td>\n",
       "      <td>1435.83</td>\n",
       "      <td>0.013681</td>\n",
       "    </tr>\n",
       "    <tr>\n",
       "      <th>2009-03-31</th>\n",
       "      <td>7056934.17</td>\n",
       "      <td>0.081991</td>\n",
       "      <td>286.46</td>\n",
       "      <td>0.061562</td>\n",
       "      <td>11769390.95</td>\n",
       "      <td>0.013806</td>\n",
       "      <td>1455.79</td>\n",
       "      <td>0.013715</td>\n",
       "    </tr>\n",
       "    <tr>\n",
       "      <th>2009-04-30</th>\n",
       "      <td>7676108.30</td>\n",
       "      <td>0.086109</td>\n",
       "      <td>312.22</td>\n",
       "      <td>0.066287</td>\n",
       "      <td>11985155.30</td>\n",
       "      <td>0.004770</td>\n",
       "      <td>1462.75</td>\n",
       "      <td>0.013698</td>\n",
       "    </tr>\n",
       "    <tr>\n",
       "      <th>...</th>\n",
       "      <td>...</td>\n",
       "      <td>...</td>\n",
       "      <td>...</td>\n",
       "      <td>...</td>\n",
       "      <td>...</td>\n",
       "      <td>...</td>\n",
       "      <td>...</td>\n",
       "      <td>...</td>\n",
       "    </tr>\n",
       "    <tr>\n",
       "      <th>2022-09-30</th>\n",
       "      <td>30198312.02</td>\n",
       "      <td>-0.098631</td>\n",
       "      <td>1286.04</td>\n",
       "      <td>0.051885</td>\n",
       "      <td>23970316.29</td>\n",
       "      <td>-0.044170</td>\n",
       "      <td>2011.06</td>\n",
       "      <td>0.016712</td>\n",
       "    </tr>\n",
       "    <tr>\n",
       "      <th>2022-10-31</th>\n",
       "      <td>32495633.95</td>\n",
       "      <td>0.074811</td>\n",
       "      <td>1385.94</td>\n",
       "      <td>0.054453</td>\n",
       "      <td>23756461.86</td>\n",
       "      <td>-0.013038</td>\n",
       "      <td>1985.01</td>\n",
       "      <td>0.016741</td>\n",
       "    </tr>\n",
       "    <tr>\n",
       "      <th>2022-11-30</th>\n",
       "      <td>34151554.37</td>\n",
       "      <td>0.049829</td>\n",
       "      <td>1456.75</td>\n",
       "      <td>0.055262</td>\n",
       "      <td>24639812.54</td>\n",
       "      <td>0.036116</td>\n",
       "      <td>2058.01</td>\n",
       "      <td>0.019175</td>\n",
       "    </tr>\n",
       "    <tr>\n",
       "      <th>2022-12-30</th>\n",
       "      <td>32000410.19</td>\n",
       "      <td>-0.061864</td>\n",
       "      <td>1369.36</td>\n",
       "      <td>0.056301</td>\n",
       "      <td>24541031.29</td>\n",
       "      <td>-0.004519</td>\n",
       "      <td>2048.73</td>\n",
       "      <td>0.019123</td>\n",
       "    </tr>\n",
       "    <tr>\n",
       "      <th>2023-01-31</th>\n",
       "      <td>34023584.90</td>\n",
       "      <td>0.061308</td>\n",
       "      <td>1455.94</td>\n",
       "      <td>0.056779</td>\n",
       "      <td>25424595.64</td>\n",
       "      <td>0.030302</td>\n",
       "      <td>2111.76</td>\n",
       "      <td>0.020435</td>\n",
       "    </tr>\n",
       "  </tbody>\n",
       "</table>\n",
       "<p>170 rows × 8 columns</p>\n",
       "</div>"
      ],
      "text/plain": [
       "                B500 Index                                 LBUSTRUU Index  \\\n",
       "Dates      INDX_MARKET_CAP Log_Returns  PX_LAST        Sd INDX_MARKET_CAP   \n",
       "2008-12-31      7868850.08    0.008824   322.14  0.055420     11430264.42   \n",
       "2009-01-30      7211885.39   -0.086114   295.56  0.055243     11448304.34   \n",
       "2009-02-27      6434213.30   -0.113264   263.91  0.056432     11466836.26   \n",
       "2009-03-31      7056934.17    0.081991   286.46  0.061562     11769390.95   \n",
       "2009-04-30      7676108.30    0.086109   312.22  0.066287     11985155.30   \n",
       "...                    ...         ...      ...       ...             ...   \n",
       "2022-09-30     30198312.02   -0.098631  1286.04  0.051885     23970316.29   \n",
       "2022-10-31     32495633.95    0.074811  1385.94  0.054453     23756461.86   \n",
       "2022-11-30     34151554.37    0.049829  1456.75  0.055262     24639812.54   \n",
       "2022-12-30     32000410.19   -0.061864  1369.36  0.056301     24541031.29   \n",
       "2023-01-31     34023584.90    0.061308  1455.94  0.056779     25424595.64   \n",
       "\n",
       "                                           \n",
       "Dates      Log_Returns  PX_LAST        Sd  \n",
       "2008-12-31    0.036630  1454.10  0.013499  \n",
       "2009-01-30   -0.008862  1441.27  0.013814  \n",
       "2009-02-27   -0.003782  1435.83  0.013681  \n",
       "2009-03-31    0.013806  1455.79  0.013715  \n",
       "2009-04-30    0.004770  1462.75  0.013698  \n",
       "...                ...      ...       ...  \n",
       "2022-09-30   -0.044170  2011.06  0.016712  \n",
       "2022-10-31   -0.013038  1985.01  0.016741  \n",
       "2022-11-30    0.036116  2058.01  0.019175  \n",
       "2022-12-30   -0.004519  2048.73  0.019123  \n",
       "2023-01-31    0.030302  2111.76  0.020435  \n",
       "\n",
       "[170 rows x 8 columns]"
      ]
     },
     "execution_count": 16,
     "metadata": {},
     "output_type": "execute_result"
    }
   ],
   "source": [
    "assets_df = pd.read_csv(\"FIEquity.csv\", encoding='utf-8', sep = \";\", header = [3,5], index_col= 0)\n",
    "#assets_df.columns = assets_df.iloc[0,:]\n",
    "#assets_df = assets_df.dropna(how ='all' )\n",
    "#assets_df = assets_df.iloc[2:,:]\n",
    "#assets_df.index = assets_df['Dates']\n",
    "#assets_df = assets_df.iloc[:,1:]\n",
    "#assets_df.index = pd.to_datetime(assets_df['Dates'])\n",
    "dict_columns = {'Unnamed: 0_level_0': ' ','Unnamed: 2_level_0': 'B500 Index', 'Unnamed: 4_level_0': 'LBUSTRUU Index' }\n",
    "assets_df = assets_df.rename(dict_columns ,axis =1, level = 0)\n",
    "assets_df.index = pd.to_datetime(assets_df.index)\n",
    "assets_df\n",
    "idx = pd.IndexSlice\n",
    "\n",
    "# Función que estima la volatilidad con el método EWMA\n",
    "def calculateEWMAVol(log_returns, sigma_seed, lambda_scalar):\n",
    "    # Calculate the \n",
    "    log_returns_squared = log_returns**2\n",
    "    log_returns_squared = log_returns_squared.dropna()\n",
    "    log_returns_squared.iloc[0] = sigma_seed**2\n",
    "    log_returns_squared = log_returns_squared.ewm(alpha = 1-lambda_scalar, adjust= False).mean()\n",
    "    log_returns_squared = np.sqrt(log_returns_squared)\n",
    "    return log_returns_squared\n",
    "assets_df.loc[:,idx['B500 Index','Log_Returns']] = np.log((assets_df.loc[:,idx['B500 Index','PX_LAST']].shift(-1)/assets_df.loc[:,idx['B500 Index','PX_LAST']]).shift(1))\n",
    "assets_df.loc[:,idx['LBUSTRUU Index','Log_Returns']] = np.log((assets_df.loc[:,idx['LBUSTRUU Index','PX_LAST']].shift(-1)/assets_df.loc[:,idx['LBUSTRUU Index','PX_LAST']]).shift(1))\n",
    "assets_df.loc[:,idx['B500 Index','Sd']] = assets_df.loc[:,idx['B500 Index','Log_Returns']].rolling(window=window).apply(np.std, raw=True)\n",
    "assets_df.loc[:,idx['LBUSTRUU Index','Sd']] = assets_df.loc[:,idx['LBUSTRUU Index','Log_Returns']].rolling(window=window).apply(np.std, raw=True)\n",
    "\n",
    "cov = assets_df.loc[:,idx[:,'Log_Returns']].rolling(window=window).cov()\n",
    "cov = cov.dropna()\n",
    "assets_df = assets_df.sort_index(axis = 1)\n",
    "assets_df = assets_df.dropna()\n",
    "assets_df"
   ]
  },
  {
   "cell_type": "code",
   "execution_count": 17,
   "metadata": {},
   "outputs": [
    {
     "data": {
      "text/plain": [
       "2008-12-31    0.000323\n",
       "2009-01-30    0.000763\n",
       "2009-02-27    0.000428\n",
       "2009-03-31    0.001132\n",
       "2009-04-30    0.000411\n",
       "                ...   \n",
       "2022-09-30    0.004357\n",
       "2022-10-31   -0.000975\n",
       "2022-11-30    0.001800\n",
       "2022-12-30    0.000280\n",
       "2023-01-31    0.001858\n",
       "Length: 170, dtype: float64"
      ]
     },
     "execution_count": 17,
     "metadata": {},
     "output_type": "execute_result"
    }
   ],
   "source": [
    "cov = cov.loc[idx[:,:,'Log_Returns'],idx['B500 Index','Log_Returns']].reset_index(level = 1, drop = True).reset_index(level = 1, drop = True).rename('Covarianza')\n",
    "cross_returns = assets_df.loc[:,idx['B500 Index','Log_Returns']]*assets_df.loc[:,idx['LBUSTRUU Index','Log_Returns']]\n",
    "cross_returns"
   ]
  },
  {
   "cell_type": "code",
   "execution_count": 18,
   "metadata": {},
   "outputs": [
    {
     "data": {
      "text/plain": [
       "2008-12-31    0.003225\n",
       "2009-01-30    0.003077\n",
       "2009-02-27    0.002918\n",
       "2009-03-31    0.002811\n",
       "2009-04-30    0.002667\n",
       "                ...   \n",
       "2022-09-30    0.000743\n",
       "2022-10-31    0.000640\n",
       "2022-11-30    0.000710\n",
       "2022-12-30    0.000684\n",
       "2023-01-31    0.000754\n",
       "Length: 170, dtype: float64"
      ]
     },
     "execution_count": 18,
     "metadata": {},
     "output_type": "execute_result"
    }
   ],
   "source": [
    "def calculateEWMACov(log_returns, sigma_seed, lambda_scalar):\n",
    "    # Calculate the \n",
    "    log_returns = log_returns.dropna()\n",
    "    log_returns.iloc[0] = sigma_seed\n",
    "    log_returns = log_returns.ewm(alpha = 1-lambda_scalar, adjust= False).mean()\n",
    "    return log_returns\n",
    "\n",
    "assets_df.loc[:,idx['B500 Index','Sd (ewma)']] = calculateEWMAVol(assets_df.loc[:,idx['B500 Index','Log_Returns']], assets_df.loc[:,idx['B500 Index','Sd']].iloc[0], 0.94)\n",
    "assets_df.loc[:,idx['LBUSTRUU Index','Sd (ewma)']] = calculateEWMAVol(assets_df.loc[:,idx['LBUSTRUU Index','Log_Returns']], assets_df.loc[:,idx['LBUSTRUU Index','Sd']].iloc[0], 0.94)\n",
    "cov_ewma = calculateEWMACov(cross_returns, cov.iloc[0], 0.94)\n",
    "cov_ewma "
   ]
  },
  {
   "cell_type": "code",
   "execution_count": 19,
   "metadata": {},
   "outputs": [
    {
     "data": {
      "text/plain": [
       "array([[0.00041758, 0.21271237],\n",
       "       [0.21271237, 0.00322388]])"
      ]
     },
     "execution_count": 19,
     "metadata": {},
     "output_type": "execute_result"
    }
   ],
   "source": [
    "anual_variance_FI = (assets_df.loc[:,idx['LBUSTRUU Index','Sd']].iloc[-1]**2)\n",
    "anual_variance_Equity = (assets_df.loc[:,idx['B500 Index','Sd']].iloc[-1]**2)\n",
    "anual_covariance = (cov.iloc[-1])*252\n",
    "covariance = np.array([[anual_variance_FI,anual_covariance],[anual_covariance,anual_variance_Equity]])\n",
    "covariance"
   ]
  },
  {
   "cell_type": "code",
   "execution_count": 20,
   "metadata": {},
   "outputs": [
    {
     "data": {
      "text/html": [
       "<div>\n",
       "<style scoped>\n",
       "    .dataframe tbody tr th:only-of-type {\n",
       "        vertical-align: middle;\n",
       "    }\n",
       "\n",
       "    .dataframe tbody tr th {\n",
       "        vertical-align: top;\n",
       "    }\n",
       "\n",
       "    .dataframe thead th {\n",
       "        text-align: right;\n",
       "    }\n",
       "</style>\n",
       "<table border=\"1\" class=\"dataframe\">\n",
       "  <thead>\n",
       "    <tr style=\"text-align: right;\">\n",
       "      <th></th>\n",
       "      <th>Bonds</th>\n",
       "      <th>Equity</th>\n",
       "    </tr>\n",
       "  </thead>\n",
       "  <tbody>\n",
       "    <tr>\n",
       "      <th>Bonds</th>\n",
       "      <td>0.000426</td>\n",
       "      <td>0.000754</td>\n",
       "    </tr>\n",
       "    <tr>\n",
       "      <th>Equity</th>\n",
       "      <td>0.000754</td>\n",
       "      <td>0.003524</td>\n",
       "    </tr>\n",
       "  </tbody>\n",
       "</table>\n",
       "</div>"
      ],
      "text/plain": [
       "           Bonds    Equity\n",
       "Bonds   0.000426  0.000754\n",
       "Equity  0.000754  0.003524"
      ]
     },
     "execution_count": 20,
     "metadata": {},
     "output_type": "execute_result"
    }
   ],
   "source": [
    "anual_variance_FI = (assets_df.loc[:,idx['LBUSTRUU Index','Sd (ewma)']].iloc[-1]**2)\n",
    "anual_variance_Equity = (assets_df.loc[:,idx['B500 Index','Sd (ewma)']].iloc[-1]**2)\n",
    "anual_covariance_ewma = (cov_ewma.iloc[-1])\n",
    "covariance_ewma = np.array([[anual_variance_FI,anual_covariance_ewma],[anual_covariance_ewma,anual_variance_Equity]])\n",
    "covariance_ewma = pd.DataFrame([[anual_variance_FI,anual_covariance_ewma],[anual_covariance_ewma,anual_variance_Equity]],columns=['Bonds', 'Equity'], index=['Bonds', 'Equity'])\n",
    "covariance_ewma"
   ]
  },
  {
   "cell_type": "code",
   "execution_count": 21,
   "metadata": {},
   "outputs": [
    {
     "data": {
      "text/plain": [
       "                Dates      \n",
       "B500 Index      Log_Returns    1.517245\n",
       "LBUSTRUU Index  Log_Returns    0.409765\n",
       "dtype: float64"
      ]
     },
     "execution_count": 21,
     "metadata": {},
     "output_type": "execute_result"
    }
   ],
   "source": [
    "assets_df.loc[:,idx[:,'Log_Returns']].sum()"
   ]
  },
  {
   "cell_type": "markdown",
   "metadata": {},
   "source": [
    "### Distribución de Retornos A Priori\n",
    "\n",
    "Lo primero que necesitamos es encontrar el parámetro de la aversión al riesgo que se usará en la optimización en reversa. Recordemos que la fórmula es: \n",
    "\n",
    "$$\\delta = \\frac{R-R_{f}}{\\sigma^2}$$"
   ]
  },
  {
   "cell_type": "code",
   "execution_count": 22,
   "metadata": {},
   "outputs": [
    {
     "data": {
      "text/plain": [
       "4.963405428384375"
      ]
     },
     "execution_count": 22,
     "metadata": {},
     "output_type": "execute_result"
    }
   ],
   "source": [
    "from pypfopt import black_litterman\n",
    "from pypfopt.black_litterman import BlackLittermanModel\n",
    "from pypfopt.efficient_frontier import EfficientFrontier\n",
    "import yfinance as yf\n",
    "\n",
    "tau = 0.05\n",
    "snp = yf.Ticker(\"^GSPC\")\n",
    "hist_snp = snp.history(period=\"max\")\n",
    "hist_snp.index = hist_snp.index.date\n",
    "hist_snp.index = pd.to_datetime(hist_snp.index)\n",
    "hist_snp\n",
    "delta = black_litterman.market_implied_risk_aversion(assets_df.loc[:,idx['B500 Index','PX_LAST']])\n",
    "delta"
   ]
  },
  {
   "cell_type": "markdown",
   "metadata": {},
   "source": [
    "### Prior Returns\n",
    "\n",
    "Usando la ecuación que derivamos:\n",
    "\n",
    "$$\\Pi = \\delta\\Sigma \\omega_{mkt}$$\n"
   ]
  },
  {
   "cell_type": "code",
   "execution_count": 23,
   "metadata": {},
   "outputs": [
    {
     "data": {
      "text/plain": [
       "Bonds     25424595.64\n",
       "Equity    34023584.90\n",
       "Name: 2023-01-31 00:00:00, dtype: float64"
      ]
     },
     "execution_count": 23,
     "metadata": {},
     "output_type": "execute_result"
    }
   ],
   "source": [
    "mcaps = assets_df.loc[:,idx[:,'INDX_MARKET_CAP']].iloc[-1].reset_index(level=1, drop = True)\n",
    "mcaps = mcaps.rename({'B500 Index':'Equity','LBUSTRUU Index': 'Bonds'})\n",
    "mcaps = mcaps.sort_index()\n",
    "mcaps"
   ]
  },
  {
   "cell_type": "code",
   "execution_count": 24,
   "metadata": {},
   "outputs": [
    {
     "data": {
      "text/plain": [
       "Bonds     0.023047\n",
       "Equity    0.031613\n",
       "dtype: float64"
      ]
     },
     "execution_count": 24,
     "metadata": {},
     "output_type": "execute_result"
    }
   ],
   "source": [
    "prior = black_litterman.market_implied_prior_returns(mcaps, delta, covariance_ewma)\n",
    "prior"
   ]
  },
  {
   "cell_type": "code",
   "execution_count": 25,
   "metadata": {},
   "outputs": [
    {
     "data": {
      "text/plain": [
       "OrderedDict([('Bonds', 0.61854), ('Equity', 0.38146)])"
      ]
     },
     "execution_count": 25,
     "metadata": {},
     "output_type": "execute_result"
    }
   ],
   "source": [
    "# Market Cap \n",
    "Q = np.array([0.08]).reshape(-1, 1)\n",
    "bl = BlackLittermanModel(covariance_ewma, pi = prior, Q = Q, absolute_views={'Bonds':0.04,'Equity':0.85}, view_confidences = [0.5, 0.15], omega = \"idzorek\")\n",
    "bl.bl_weights(delta)\n",
    "weights = bl.clean_weights()\n",
    "weights"
   ]
  },
  {
   "cell_type": "code",
   "execution_count": 26,
   "metadata": {},
   "outputs": [
    {
     "data": {
      "text/plain": [
       "OrderedDict([('Bonds', 1.0000000000051659), ('Equity', 2.414e-13)])"
      ]
     },
     "execution_count": 26,
     "metadata": {},
     "output_type": "execute_result"
    }
   ],
   "source": [
    "from pypfopt import EfficientFrontier\n",
    "ef = EfficientFrontier(prior, covariance_ewma)\n",
    "ef.min_volatility()"
   ]
  },
  {
   "cell_type": "code",
   "execution_count": 27,
   "metadata": {},
   "outputs": [
    {
     "data": {
      "text/plain": [
       "OrderedDict([('Bonds', 0.4276765984614514), ('Equity', 0.5723234015385487)])"
      ]
     },
     "execution_count": 27,
     "metadata": {},
     "output_type": "execute_result"
    }
   ],
   "source": [
    "ef = EfficientFrontier(prior, covariance_ewma)\n",
    "ef.max_sharpe(risk_free_rate=0.02)"
   ]
  },
  {
   "cell_type": "code",
   "execution_count": 28,
   "metadata": {},
   "outputs": [
    {
     "data": {
      "text/plain": [
       "OrderedDict([('Bonds', 0.6297872677582479), ('Equity', 0.370212732241752)])"
      ]
     },
     "execution_count": 28,
     "metadata": {},
     "output_type": "execute_result"
    }
   ],
   "source": [
    "ef = EfficientFrontier([0.04, 0.085], covariance_ewma)\n",
    "ef.max_sharpe(risk_free_rate=0.02)"
   ]
  }
 ],
 "metadata": {
  "kernelspec": {
   "display_name": "Python 3",
   "language": "python",
   "name": "python3"
  },
  "language_info": {
   "codemirror_mode": {
    "name": "ipython",
    "version": 3
   },
   "file_extension": ".py",
   "mimetype": "text/x-python",
   "name": "python",
   "nbconvert_exporter": "python",
   "pygments_lexer": "ipython3",
   "version": "3.8.8"
  },
  "vscode": {
   "interpreter": {
    "hash": "f447b78893daf8596901db53501155ace9d38bb7eb7e626464f27f83053f23c5"
   }
  }
 },
 "nbformat": 4,
 "nbformat_minor": 2
}
