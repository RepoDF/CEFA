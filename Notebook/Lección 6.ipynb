{
 "cells": [
  {
   "cell_type": "markdown",
   "metadata": {},
   "source": [
    "## Notebook Lección 6\n",
    "\n",
    "### Objetivos Lección 6\n",
    "\n",
    "1) Utilizar el método EWMA para estimar varianzas y covarianzas, entiendo los supuesto que implica. \n",
    "\n",
    "2) Utilizar el exponente de hurst para escalar matrices de varianzas y covarianzas.\n",
    "\n",
    "### Ejercicio\n",
    "\n",
    "Desarrolle los siguientes puntos:\n",
    "\n",
    "1. Importe la serie del precio del S&P500\n",
    "\n",
    "2. Obtenga la volatilidad por ventanas móviles\n",
    "\n",
    "3. Utilice EWMA para considerar la heteroscedásticidad condicional\n",
    "\n",
    "4. Importe la serie del precio del Bitcoin\n",
    "\n",
    "5. Obtenga la volatilidad por ventanas móviles\n",
    "\n",
    "6. Utilice EWMA para considerar la heteroscedásticidad condicional  \n",
    "\n",
    "7. Obtenga la covarianza por ventanas móviles\n",
    "\n",
    "8. Utilice EWMA para considerar la heteroscedásticidad condicional\n",
    "\n",
    "9. Obtenga la correlación de la serie por ewma y comparela con la correlación sin EWMA\n",
    "\n",
    "10. Estime la matriz de covarianza con el exponente de Hurst. Use la función que se dispuso mas abajo."
   ]
  },
  {
   "cell_type": "code",
   "execution_count": 558,
   "metadata": {},
   "outputs": [],
   "source": [
    "import numpy as np\n",
    "import matplotlib.pyplot as plt\n",
    "import pandas as pd\n",
    "#import yfinance as yf\n",
    "\n",
    "try: \n",
    "    # Import SnP data \n",
    "    snp = yf.Ticker(\"^GSPC\")\n",
    "    hist_snp = snp.history(period=\"max\")\n",
    "    hist_snp.index = hist_snp.index.date\n",
    "    hist_snp.index = pd.to_datetime(hist_snp.index)\n",
    "    hist_snp = hist_snp[hist_snp.index >= '1991-06-30']\n",
    "    hist_snp.to_csv(\"SnP500.csv\",encoding='utf-8')\n",
    "    # Import Bitcoin data        \n",
    "    bitcoin = yf.Ticker(\"BTC-USD\")\n",
    "    hist_bitcoin = bitcoin.history(period=\"max\")\n",
    "    hist_bitcoin.index = hist_bitcoin.index.date\n",
    "    hist_bitcoin.index = pd.to_datetime(hist_bitcoin.index)\n",
    "    hist_bitcoin.to_csv(\"Bitcoin.csv\", encoding='utf-8')\n",
    "except:\n",
    "    hist_bitcoin = pd.read_csv(\"Bitcoin.csv\")\n",
    "    hist_snp = pd.read_csv(\"SnP500.csv\", )\n",
    "df = hist_snp.join(hist_bitcoin, rsuffix='_bitcoin').dropna()"
   ]
  },
  {
   "cell_type": "markdown",
   "metadata": {},
   "source": [
    "### Ventanas Móviles (Caso S&P 500)\n",
    "\n",
    "A continuación se replica el ejercicio documentado en el boletín de Risk Management de Goldman Sachs de Enero del 1998."
   ]
  },
  {
   "cell_type": "code",
   "execution_count": 559,
   "metadata": {},
   "outputs": [
    {
     "data": {
      "text/plain": [
       "<matplotlib.lines.Line2D at 0x22111bdd8e0>"
      ]
     },
     "execution_count": 559,
     "metadata": {},
     "output_type": "execute_result"
    },
    {
     "data": {
      "image/png": "[encoded data removed]",
      "text/plain": [
       "<Figure size 432x288 with 1 Axes>"
      ]
     },
     "metadata": {
      "needs_background": "light"
     },
     "output_type": "display_data"
    }
   ],
   "source": [
    "hist_snp = hist_snp.loc[hist_snp.index >= \"1991-01-01\"]\n",
    "hist_snp = hist_snp.loc[hist_snp.index <= \"1996-12-31\"]\n",
    "hist_snp.to_clipboard()\n",
    "hist_snp['Log_Returns_snp'] = np.log((hist_snp['Close'].shift(-1)/hist_snp['Close']).shift(1))\n",
    "volatility_snp = hist_snp['Log_Returns_snp'].std()\n",
    "ax = (hist_snp.loc[:,'Log_Returns_snp'].rolling(window=100).apply(np.std, raw=True)*np.sqrt(252)).plot() \n",
    "ax.axhline(volatility_snp*np.sqrt(252), c='r')"
   ]
  },
  {
   "cell_type": "markdown",
   "metadata": {},
   "source": [
    "### Estimar Volatilidades con EWMA\n",
    "\n",
    "Se encuentra primero los retornos logarítmicos, para después obtener la serie de la desviación estándar usando una ventana de 21 días"
   ]
  },
  {
   "cell_type": "code",
   "execution_count": 560,
   "metadata": {},
   "outputs": [
    {
     "data": {
      "text/html": [
       "<div>\n",
       "<style scoped>\n",
       "    .dataframe tbody tr th:only-of-type {\n",
       "        vertical-align: middle;\n",
       "    }\n",
       "\n",
       "    .dataframe tbody tr th {\n",
       "        vertical-align: top;\n",
       "    }\n",
       "\n",
       "    .dataframe thead th {\n",
       "        text-align: right;\n",
       "    }\n",
       "</style>\n",
       "<table border=\"1\" class=\"dataframe\">\n",
       "  <thead>\n",
       "    <tr style=\"text-align: right;\">\n",
       "      <th></th>\n",
       "      <th>Open</th>\n",
       "      <th>High</th>\n",
       "      <th>Low</th>\n",
       "      <th>Close</th>\n",
       "      <th>Volume</th>\n",
       "      <th>Dividends</th>\n",
       "      <th>Stock Splits</th>\n",
       "      <th>Open_bitcoin</th>\n",
       "      <th>High_bitcoin</th>\n",
       "      <th>Low_bitcoin</th>\n",
       "      <th>Close_bitcoin</th>\n",
       "      <th>Volume_bitcoin</th>\n",
       "      <th>Dividends_bitcoin</th>\n",
       "      <th>Stock Splits_bitcoin</th>\n",
       "      <th>Log_Returns_snp</th>\n",
       "      <th>Log_Returns_btc</th>\n",
       "      <th>Sd_snp</th>\n",
       "      <th>Sd_btc</th>\n",
       "    </tr>\n",
       "  </thead>\n",
       "  <tbody>\n",
       "    <tr>\n",
       "      <th>2014-09-17</th>\n",
       "      <td>1999.300049</td>\n",
       "      <td>2010.739990</td>\n",
       "      <td>1993.290039</td>\n",
       "      <td>2001.569946</td>\n",
       "      <td>3209420000</td>\n",
       "      <td>0.0</td>\n",
       "      <td>0.0</td>\n",
       "      <td>465.864014</td>\n",
       "      <td>468.174011</td>\n",
       "      <td>452.421997</td>\n",
       "      <td>457.334015</td>\n",
       "      <td>2.105680e+07</td>\n",
       "      <td>0.0</td>\n",
       "      <td>0.0</td>\n",
       "      <td>NaN</td>\n",
       "      <td>NaN</td>\n",
       "      <td>NaN</td>\n",
       "      <td>NaN</td>\n",
       "    </tr>\n",
       "    <tr>\n",
       "      <th>2014-09-18</th>\n",
       "      <td>2003.069946</td>\n",
       "      <td>2012.339966</td>\n",
       "      <td>2003.069946</td>\n",
       "      <td>2011.359985</td>\n",
       "      <td>3235340000</td>\n",
       "      <td>0.0</td>\n",
       "      <td>0.0</td>\n",
       "      <td>456.859985</td>\n",
       "      <td>456.859985</td>\n",
       "      <td>413.104004</td>\n",
       "      <td>424.440002</td>\n",
       "      <td>3.448320e+07</td>\n",
       "      <td>0.0</td>\n",
       "      <td>0.0</td>\n",
       "      <td>0.004879</td>\n",
       "      <td>-0.074643</td>\n",
       "      <td>NaN</td>\n",
       "      <td>NaN</td>\n",
       "    </tr>\n",
       "    <tr>\n",
       "      <th>2014-09-19</th>\n",
       "      <td>2012.739990</td>\n",
       "      <td>2019.260010</td>\n",
       "      <td>2006.589966</td>\n",
       "      <td>2010.400024</td>\n",
       "      <td>4880220000</td>\n",
       "      <td>0.0</td>\n",
       "      <td>0.0</td>\n",
       "      <td>424.102997</td>\n",
       "      <td>427.834991</td>\n",
       "      <td>384.532013</td>\n",
       "      <td>394.795990</td>\n",
       "      <td>3.791970e+07</td>\n",
       "      <td>0.0</td>\n",
       "      <td>0.0</td>\n",
       "      <td>-0.000477</td>\n",
       "      <td>-0.072402</td>\n",
       "      <td>NaN</td>\n",
       "      <td>NaN</td>\n",
       "    </tr>\n",
       "    <tr>\n",
       "      <th>2014-09-22</th>\n",
       "      <td>2009.079956</td>\n",
       "      <td>2009.079956</td>\n",
       "      <td>1991.010010</td>\n",
       "      <td>1994.290039</td>\n",
       "      <td>3349670000</td>\n",
       "      <td>0.0</td>\n",
       "      <td>0.0</td>\n",
       "      <td>399.100006</td>\n",
       "      <td>406.915985</td>\n",
       "      <td>397.130005</td>\n",
       "      <td>402.152008</td>\n",
       "      <td>2.412760e+07</td>\n",
       "      <td>0.0</td>\n",
       "      <td>0.0</td>\n",
       "      <td>-0.008046</td>\n",
       "      <td>0.018461</td>\n",
       "      <td>NaN</td>\n",
       "      <td>NaN</td>\n",
       "    </tr>\n",
       "    <tr>\n",
       "      <th>2014-09-23</th>\n",
       "      <td>1992.780029</td>\n",
       "      <td>1995.410034</td>\n",
       "      <td>1982.770020</td>\n",
       "      <td>1982.770020</td>\n",
       "      <td>3279350000</td>\n",
       "      <td>0.0</td>\n",
       "      <td>0.0</td>\n",
       "      <td>402.092010</td>\n",
       "      <td>441.557007</td>\n",
       "      <td>396.196991</td>\n",
       "      <td>435.790985</td>\n",
       "      <td>4.509950e+07</td>\n",
       "      <td>0.0</td>\n",
       "      <td>0.0</td>\n",
       "      <td>-0.005793</td>\n",
       "      <td>0.080333</td>\n",
       "      <td>NaN</td>\n",
       "      <td>NaN</td>\n",
       "    </tr>\n",
       "    <tr>\n",
       "      <th>...</th>\n",
       "      <td>...</td>\n",
       "      <td>...</td>\n",
       "      <td>...</td>\n",
       "      <td>...</td>\n",
       "      <td>...</td>\n",
       "      <td>...</td>\n",
       "      <td>...</td>\n",
       "      <td>...</td>\n",
       "      <td>...</td>\n",
       "      <td>...</td>\n",
       "      <td>...</td>\n",
       "      <td>...</td>\n",
       "      <td>...</td>\n",
       "      <td>...</td>\n",
       "      <td>...</td>\n",
       "      <td>...</td>\n",
       "      <td>...</td>\n",
       "      <td>...</td>\n",
       "    </tr>\n",
       "    <tr>\n",
       "      <th>2023-02-08</th>\n",
       "      <td>4153.470215</td>\n",
       "      <td>4156.850098</td>\n",
       "      <td>4111.669922</td>\n",
       "      <td>4117.859863</td>\n",
       "      <td>4029820000</td>\n",
       "      <td>0.0</td>\n",
       "      <td>0.0</td>\n",
       "      <td>23263.416016</td>\n",
       "      <td>23367.958984</td>\n",
       "      <td>22731.097656</td>\n",
       "      <td>22939.398438</td>\n",
       "      <td>2.537137e+10</td>\n",
       "      <td>0.0</td>\n",
       "      <td>0.0</td>\n",
       "      <td>-0.011143</td>\n",
       "      <td>-0.014064</td>\n",
       "      <td>0.010120</td>\n",
       "      <td>0.027337</td>\n",
       "    </tr>\n",
       "    <tr>\n",
       "      <th>2023-02-09</th>\n",
       "      <td>4144.250000</td>\n",
       "      <td>4156.229980</td>\n",
       "      <td>4069.669922</td>\n",
       "      <td>4081.500000</td>\n",
       "      <td>4270200000</td>\n",
       "      <td>0.0</td>\n",
       "      <td>0.0</td>\n",
       "      <td>22946.566406</td>\n",
       "      <td>22996.437500</td>\n",
       "      <td>21773.974609</td>\n",
       "      <td>21819.039062</td>\n",
       "      <td>3.257257e+10</td>\n",
       "      <td>0.0</td>\n",
       "      <td>0.0</td>\n",
       "      <td>-0.008869</td>\n",
       "      <td>-0.050073</td>\n",
       "      <td>0.010360</td>\n",
       "      <td>0.030523</td>\n",
       "    </tr>\n",
       "    <tr>\n",
       "      <th>2023-02-10</th>\n",
       "      <td>4068.919922</td>\n",
       "      <td>4094.360107</td>\n",
       "      <td>4060.790039</td>\n",
       "      <td>4090.459961</td>\n",
       "      <td>3891520000</td>\n",
       "      <td>0.0</td>\n",
       "      <td>0.0</td>\n",
       "      <td>21819.005859</td>\n",
       "      <td>21941.185547</td>\n",
       "      <td>21539.392578</td>\n",
       "      <td>21651.183594</td>\n",
       "      <td>2.707841e+10</td>\n",
       "      <td>0.0</td>\n",
       "      <td>0.0</td>\n",
       "      <td>0.002193</td>\n",
       "      <td>-0.007723</td>\n",
       "      <td>0.010074</td>\n",
       "      <td>0.030515</td>\n",
       "    </tr>\n",
       "    <tr>\n",
       "      <th>2023-02-13</th>\n",
       "      <td>4096.620117</td>\n",
       "      <td>4138.899902</td>\n",
       "      <td>4092.669922</td>\n",
       "      <td>4137.290039</td>\n",
       "      <td>3448620000</td>\n",
       "      <td>0.0</td>\n",
       "      <td>0.0</td>\n",
       "      <td>21787.000000</td>\n",
       "      <td>21898.414062</td>\n",
       "      <td>21460.087891</td>\n",
       "      <td>21808.101562</td>\n",
       "      <td>2.391874e+10</td>\n",
       "      <td>0.0</td>\n",
       "      <td>0.0</td>\n",
       "      <td>0.011384</td>\n",
       "      <td>0.007221</td>\n",
       "      <td>0.010290</td>\n",
       "      <td>0.029046</td>\n",
       "    </tr>\n",
       "    <tr>\n",
       "      <th>2023-02-14</th>\n",
       "      <td>4126.700195</td>\n",
       "      <td>4159.770020</td>\n",
       "      <td>4095.010010</td>\n",
       "      <td>4141.009766</td>\n",
       "      <td>1433513000</td>\n",
       "      <td>0.0</td>\n",
       "      <td>0.0</td>\n",
       "      <td>21793.259766</td>\n",
       "      <td>22284.529297</td>\n",
       "      <td>21647.423828</td>\n",
       "      <td>22224.185547</td>\n",
       "      <td>2.689920e+10</td>\n",
       "      <td>0.0</td>\n",
       "      <td>0.0</td>\n",
       "      <td>0.000899</td>\n",
       "      <td>0.018900</td>\n",
       "      <td>0.010280</td>\n",
       "      <td>0.027271</td>\n",
       "    </tr>\n",
       "  </tbody>\n",
       "</table>\n",
       "<p>2118 rows × 18 columns</p>\n",
       "</div>"
      ],
      "text/plain": [
       "                   Open         High          Low        Close      Volume  \\\n",
       "2014-09-17  1999.300049  2010.739990  1993.290039  2001.569946  3209420000   \n",
       "2014-09-18  2003.069946  2012.339966  2003.069946  2011.359985  3235340000   \n",
       "2014-09-19  2012.739990  2019.260010  2006.589966  2010.400024  4880220000   \n",
       "2014-09-22  2009.079956  2009.079956  1991.010010  1994.290039  3349670000   \n",
       "2014-09-23  1992.780029  1995.410034  1982.770020  1982.770020  3279350000   \n",
       "...                 ...          ...          ...          ...         ...   \n",
       "2023-02-08  4153.470215  4156.850098  4111.669922  4117.859863  4029820000   \n",
       "2023-02-09  4144.250000  4156.229980  4069.669922  4081.500000  4270200000   \n",
       "2023-02-10  4068.919922  4094.360107  4060.790039  4090.459961  3891520000   \n",
       "2023-02-13  4096.620117  4138.899902  4092.669922  4137.290039  3448620000   \n",
       "2023-02-14  4126.700195  4159.770020  4095.010010  4141.009766  1433513000   \n",
       "\n",
       "            Dividends  Stock Splits  Open_bitcoin  High_bitcoin   Low_bitcoin  \\\n",
       "2014-09-17        0.0           0.0    465.864014    468.174011    452.421997   \n",
       "2014-09-18        0.0           0.0    456.859985    456.859985    413.104004   \n",
       "2014-09-19        0.0           0.0    424.102997    427.834991    384.532013   \n",
       "2014-09-22        0.0           0.0    399.100006    406.915985    397.130005   \n",
       "2014-09-23        0.0           0.0    402.092010    441.557007    396.196991   \n",
       "...               ...           ...           ...           ...           ...   \n",
       "2023-02-08        0.0           0.0  23263.416016  23367.958984  22731.097656   \n",
       "2023-02-09        0.0           0.0  22946.566406  22996.437500  21773.974609   \n",
       "2023-02-10        0.0           0.0  21819.005859  21941.185547  21539.392578   \n",
       "2023-02-13        0.0           0.0  21787.000000  21898.414062  21460.087891   \n",
       "2023-02-14        0.0           0.0  21793.259766  22284.529297  21647.423828   \n",
       "\n",
       "            Close_bitcoin  Volume_bitcoin  Dividends_bitcoin  \\\n",
       "2014-09-17     457.334015    2.105680e+07                0.0   \n",
       "2014-09-18     424.440002    3.448320e+07                0.0   \n",
       "2014-09-19     394.795990    3.791970e+07                0.0   \n",
       "2014-09-22     402.152008    2.412760e+07                0.0   \n",
       "2014-09-23     435.790985    4.509950e+07                0.0   \n",
       "...                   ...             ...                ...   \n",
       "2023-02-08   22939.398438    2.537137e+10                0.0   \n",
       "2023-02-09   21819.039062    3.257257e+10                0.0   \n",
       "2023-02-10   21651.183594    2.707841e+10                0.0   \n",
       "2023-02-13   21808.101562    2.391874e+10                0.0   \n",
       "2023-02-14   22224.185547    2.689920e+10                0.0   \n",
       "\n",
       "            Stock Splits_bitcoin  Log_Returns_snp  Log_Returns_btc    Sd_snp  \\\n",
       "2014-09-17                   0.0              NaN              NaN       NaN   \n",
       "2014-09-18                   0.0         0.004879        -0.074643       NaN   \n",
       "2014-09-19                   0.0        -0.000477        -0.072402       NaN   \n",
       "2014-09-22                   0.0        -0.008046         0.018461       NaN   \n",
       "2014-09-23                   0.0        -0.005793         0.080333       NaN   \n",
       "...                          ...              ...              ...       ...   \n",
       "2023-02-08                   0.0        -0.011143        -0.014064  0.010120   \n",
       "2023-02-09                   0.0        -0.008869        -0.050073  0.010360   \n",
       "2023-02-10                   0.0         0.002193        -0.007723  0.010074   \n",
       "2023-02-13                   0.0         0.011384         0.007221  0.010290   \n",
       "2023-02-14                   0.0         0.000899         0.018900  0.010280   \n",
       "\n",
       "              Sd_btc  \n",
       "2014-09-17       NaN  \n",
       "2014-09-18       NaN  \n",
       "2014-09-19       NaN  \n",
       "2014-09-22       NaN  \n",
       "2014-09-23       NaN  \n",
       "...              ...  \n",
       "2023-02-08  0.027337  \n",
       "2023-02-09  0.030523  \n",
       "2023-02-10  0.030515  \n",
       "2023-02-13  0.029046  \n",
       "2023-02-14  0.027271  \n",
       "\n",
       "[2118 rows x 18 columns]"
      ]
     },
     "execution_count": 560,
     "metadata": {},
     "output_type": "execute_result"
    }
   ],
   "source": [
    "\n",
    "df['Log_Returns_snp'] = np.log((df['Close'].shift(-1)/df['Close']).shift(1))\n",
    "df['Log_Returns_btc'] = np.log((df['Close_bitcoin'].shift(-1)/df['Close_bitcoin']).shift(1))\n",
    "# Calculamos la volatilidad, la correlación y la covarianza en ventanas de 20 días\n",
    "window = 21\n",
    "df['Sd_snp'] = df['Log_Returns_snp'].rolling(window=window).apply(np.std, raw=True)\n",
    "df['Sd_btc'] = df['Log_Returns_btc'].rolling(window=window).apply(np.std, raw=True)\n",
    "df"
   ]
  },
  {
   "cell_type": "markdown",
   "metadata": {},
   "source": [
    "Se calcula la covarianza y la correlación en la misma ventana entre ambas series, ya que se necesitarán más adelante"
   ]
  },
  {
   "cell_type": "code",
   "execution_count": 561,
   "metadata": {},
   "outputs": [],
   "source": [
    "cov = df[['Log_Returns_snp','Log_Returns_btc']].rolling(window=window).cov()\n",
    "corr = df[['Log_Returns_snp','Log_Returns_btc']].rolling(window=window).corr()\n",
    "corr = corr.dropna()\n",
    "cov = cov.dropna()\n",
    "# Drop the first 20 rows\n",
    "df = df.dropna()"
   ]
  },
  {
   "cell_type": "code",
   "execution_count": 562,
   "metadata": {},
   "outputs": [],
   "source": [
    "# Función que estima la volatilidad con el método EWMA\n",
    "def calculateEWMAVol(log_returns, sigma_seed, lambda_scalar):\n",
    "    # Calculate the \n",
    "    log_returns_squared = log_returns**2\n",
    "    log_returns_squared = log_returns_squared.dropna()\n",
    "    log_returns_squared.iloc[0] = sigma_seed**2\n",
    "    log_returns_squared = log_returns_squared.ewm(alpha = 1-lambda_scalar, adjust= False).mean()\n",
    "    log_returns_squared = np.sqrt(log_returns_squared)\n",
    "    return log_returns_squared"
   ]
  },
  {
   "cell_type": "markdown",
   "metadata": {},
   "source": [
    "Procedemos entonces a ejecutar el algortimo para obtener la serie con suavizamiento exponencial. Primero extraemos los valores iniciales de las desviaciones estándar calculadas en ventanas de 21 para nuestras series."
   ]
  },
  {
   "cell_type": "code",
   "execution_count": 563,
   "metadata": {},
   "outputs": [],
   "source": [
    "sd_snp_subzero = df['Sd_snp'].iloc[0]\n",
    "sd_btc_subzero = df['Sd_btc'].iloc[0]\n"
   ]
  },
  {
   "cell_type": "markdown",
   "metadata": {},
   "source": [
    "Después procedemos a llenar iterativamente la serie con la ecuación:\n",
    "\n",
    "$$\\sigma_{i,t}^{2}= \\lambda * \\sigma_{i,t-1}^{2}+(1-\\lambda)r_{i,t-1}^2$$\n"
   ]
  },
  {
   "cell_type": "code",
   "execution_count": 564,
   "metadata": {},
   "outputs": [
    {
     "name": "stderr",
     "output_type": "stream",
     "text": [
      "<ipython-input-564-68e3bd9667ba>:1: SettingWithCopyWarning: \n",
      "A value is trying to be set on a copy of a slice from a DataFrame.\n",
      "Try using .loc[row_indexer,col_indexer] = value instead\n",
      "\n",
      "See the caveats in the documentation: https://pandas.pydata.org/pandas-docs/stable/user_guide/indexing.html#returning-a-view-versus-a-copy\n",
      "  df.loc[:,'ewma_vol_snp'] = calculateEWMAVol(df['Log_Returns_snp'],sd_snp_subzero, 0.94)\n",
      "<ipython-input-564-68e3bd9667ba>:2: SettingWithCopyWarning: \n",
      "A value is trying to be set on a copy of a slice from a DataFrame.\n",
      "Try using .loc[row_indexer,col_indexer] = value instead\n",
      "\n",
      "See the caveats in the documentation: https://pandas.pydata.org/pandas-docs/stable/user_guide/indexing.html#returning-a-view-versus-a-copy\n",
      "  df.loc[:,'ewma_vol_btc'] = calculateEWMAVol(df['Log_Returns_btc'],sd_btc_subzero, 0.94)\n"
     ]
    }
   ],
   "source": [
    "df.loc[:,'ewma_vol_snp'] = calculateEWMAVol(df['Log_Returns_snp'],sd_snp_subzero, 0.94)\n",
    "df.loc[:,'ewma_vol_btc'] = calculateEWMAVol(df['Log_Returns_btc'],sd_btc_subzero, 0.94)"
   ]
  },
  {
   "cell_type": "code",
   "execution_count": 565,
   "metadata": {},
   "outputs": [
    {
     "data": {
      "text/plain": [
       "<AxesSubplot: >"
      ]
     },
     "execution_count": 565,
     "metadata": {},
     "output_type": "execute_result"
    },
    {
     "data": {
      "image/png": "[encoded data removed]",
      "text/plain": [
       "<Figure size 432x288 with 1 Axes>"
      ]
     },
     "metadata": {
      "needs_background": "light"
     },
     "output_type": "display_data"
    }
   ],
   "source": [
    "df[['Sd_snp','ewma_vol_snp']].plot()"
   ]
  },
  {
   "cell_type": "markdown",
   "metadata": {},
   "source": [
    "### Estimación de la covarianza con métodología EWMA\n",
    "\n",
    "Primero extremos la covarianza semilla que corresponde al primer valor de la serie de covarianzas:"
   ]
  },
  {
   "cell_type": "code",
   "execution_count": 566,
   "metadata": {},
   "outputs": [
    {
     "data": {
      "text/plain": [
       "2014-10-16   -0.283181\n",
       "2014-10-17   -0.211406\n",
       "2014-10-20   -0.199882\n",
       "2014-10-21   -0.149176\n",
       "2014-10-22   -0.121032\n",
       "                ...   \n",
       "2023-02-08    0.460584\n",
       "2023-02-09    0.506171\n",
       "2023-02-10    0.488681\n",
       "2023-02-13    0.489303\n",
       "2023-02-14    0.501624\n",
       "Name: Log_Returns_snp, Length: 2097, dtype: float64"
      ]
     },
     "execution_count": 566,
     "metadata": {},
     "output_type": "execute_result"
    }
   ],
   "source": [
    "idx = pd.IndexSlice\n",
    "cov = cov.loc[idx[:,'Log_Returns_btc'],'Log_Returns_snp'].reset_index(level = 1, drop = True)\n",
    "corr = corr.loc[idx[:,'Log_Returns_btc'],'Log_Returns_snp'].reset_index(level = 1, drop = True)\n",
    "df = df.join(cov.rename('Cov'), how = 'inner')\n",
    "df = df.join(corr.rename('Corr'), how = 'inner')\n",
    "cov_subzero =  df['Cov'].iloc[0]\n",
    "corr"
   ]
  },
  {
   "cell_type": "markdown",
   "metadata": {},
   "source": [
    "Segundo, obtenemos el retorno cruzado y lo usamos en la ecuación para obtener la covarianza con EWMA. \n",
    "\n",
    "$$\\sigma_{i,j,t}= \\lambda * \\sigma_{i,j,t-1}+(1-\\lambda)r_{i,t-1}r_{j,t-1}$$\n",
    "\n"
   ]
  },
  {
   "cell_type": "code",
   "execution_count": 567,
   "metadata": {},
   "outputs": [],
   "source": [
    "df['XY'] = df['Log_Returns_snp']*df['Log_Returns_btc']\n",
    "def calculateEWMACov(log_returns, sigma_seed, lambda_scalar):\n",
    "    # Calculate the \n",
    "    log_returns = log_returns.dropna()\n",
    "    log_returns.iloc[0] = sigma_seed\n",
    "    log_returns = log_returns.ewm(alpha = 1-lambda_scalar, adjust= False).mean()\n",
    "    return log_returns\n",
    "df.loc[:,'Covariance (ewma)'] = calculateEWMACov(df['XY'],cov_subzero, 0.94)"
   ]
  },
  {
   "cell_type": "markdown",
   "metadata": {},
   "source": [
    "Ahora podemos comparar la covarianza paramétrica y la covarianza obtenida por ewma"
   ]
  },
  {
   "cell_type": "code",
   "execution_count": 568,
   "metadata": {},
   "outputs": [
    {
     "data": {
      "text/plain": [
       "<AxesSubplot: >"
      ]
     },
     "execution_count": 568,
     "metadata": {},
     "output_type": "execute_result"
    },
    {
     "data": {
      "image/png": "[encoded data removed]",
      "text/plain": [
       "<Figure size 432x288 with 1 Axes>"
      ]
     },
     "metadata": {
      "needs_background": "light"
     },
     "output_type": "display_data"
    }
   ],
   "source": [
    "df[['Cov','Covariance (ewma)']].plot()"
   ]
  },
  {
   "cell_type": "markdown",
   "metadata": {},
   "source": [
    "Podemos obtener a su vez una correlación estimada por ewma y compararla con la correlación tipo pearson. "
   ]
  },
  {
   "cell_type": "code",
   "execution_count": 569,
   "metadata": {},
   "outputs": [
    {
     "data": {
      "text/plain": [
       "<AxesSubplot: >"
      ]
     },
     "execution_count": 569,
     "metadata": {},
     "output_type": "execute_result"
    },
    {
     "data": {
      "image/png": "[encoded data removed]",
      "text/plain": [
       "<Figure size 432x288 with 1 Axes>"
      ]
     },
     "metadata": {
      "needs_background": "light"
     },
     "output_type": "display_data"
    }
   ],
   "source": [
    "df['Correlation (ewma)'] = df['Covariance (ewma)'] / (df['ewma_vol_snp']*(df['ewma_vol_btc']))   \n",
    "df[['Corr','Correlation (ewma)']].plot()                                             "
   ]
  },
  {
   "cell_type": "markdown",
   "metadata": {},
   "source": [
    "### Ejercicio:\n",
    "\n",
    "Encuentre el coeficiente de Hurst para ambas series y uselo para escalar la matriz de covarianza obtenida con el método EWMA."
   ]
  },
  {
   "cell_type": "code",
   "execution_count": 570,
   "metadata": {},
   "outputs": [],
   "source": [
    "def get_hurst_exponent(time_series, max_lag=20):\n",
    "    \"\"\"Returns the Hurst Exponent of the time series\"\"\"    \n",
    "    lags = range(2, max_lag)\n",
    "    # variances of the lagged differences\n",
    "    tau = [np.std(np.subtract(time_series[lag:], time_series[:-lag])) for lag in lags]\n",
    "    # calculate the slope of the log plot -> the Hurst Exponent\n",
    "    reg = np.polyfit(np.log(lags), np.log(tau), 1)\n",
    "    return reg[0]\n"
   ]
  }
 ],
 "metadata": {
  "kernelspec": {
   "display_name": "Python 3",
   "language": "python",
   "name": "python3"
  },
  "language_info": {
   "codemirror_mode": {
    "name": "ipython",
    "version": 3
   },
   "file_extension": ".py",
   "mimetype": "text/x-python",
   "name": "python",
   "nbconvert_exporter": "python",
   "pygments_lexer": "ipython3",
   "version": "3.8.8"
  },
  "vscode": {
   "interpreter": {
    "hash": "f447b78893daf8596901db53501155ace9d38bb7eb7e626464f27f83053f23c5"
   }
  }
 },
 "nbformat": 4,
 "nbformat_minor": 2
}
