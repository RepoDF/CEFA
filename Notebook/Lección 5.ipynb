{
 "cells": [
  {
   "cell_type": "markdown",
   "metadata": {},
   "source": [
    "## Notebook Lección 5\n",
    "\n",
    "### Objetivos Lección 5\n",
    "\n",
    "1)\tEntender cómo estimar el retorno de los activos con base a los datos históricos.\n",
    "\n",
    "2)\tModelar correctamente el estimador de retorno.\n",
    "\n",
    "### Ejercicio\n",
    "\n",
    "Desarrolle los siguientes puntos:\n",
    "\n",
    "1. Importe la serie de datos del Bitcoin\n",
    "2. Calcule el retorno anualizado del bitcoin\n",
    "3. Calcule la volatilidad anual del bitcoin\n",
    "4. Gráfique el precio del bitcoin en escala logarítmica\n",
    "5. Realice un intervalo de confianza para el retono esperado.\n",
    "6. Realice un intervalo de confianza para el retorno esperado anualizado. "
   ]
  }
 ],
 "metadata": {
  "kernelspec": {
   "display_name": "Python 3",
   "language": "python",
   "name": "python3"
  },
  "language_info": {
   "codemirror_mode": {
    "name": "ipython",
    "version": 3
   },
   "file_extension": ".py",
   "mimetype": "text/x-python",
   "name": "python",
   "nbconvert_exporter": "python",
   "pygments_lexer": "ipython3",
   "version": "3.8.8"
  },
  "vscode": {
   "interpreter": {
    "hash": "f447b78893daf8596901db53501155ace9d38bb7eb7e626464f27f83053f23c5"
   }
  }
 },
 "nbformat": 4,
 "nbformat_minor": 2
}
